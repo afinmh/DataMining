{
  "nbformat": 4,
  "nbformat_minor": 0,
  "metadata": {
    "colab": {
      "provenance": []
    },
    "kernelspec": {
      "name": "python3",
      "display_name": "Python 3"
    },
    "language_info": {
      "name": "python"
    }
  },
  "cells": [
    {
      "cell_type": "markdown",
      "source": [
        "**Langkah 1: Menyusun Data Pelamar**\n",
        "\n",
        "Data pelamar disusun dalam bentuk list of dictionaries di mana setiap dictionary mewakili satu pelamar dan atributnya:\n",
        "\n",
        "IPK: Tingkat kelulusan akademis (Bagus, Cukup, Kurang).\n",
        "\n",
        "Psikologi: Hasil tes psikologi (Tinggi, Sedang, Rendah).\n",
        "\n",
        "Wawancara: Penilaian hasil wawancara (Baik, Buruk).\n",
        "Diterima: Apakah pelamar diterima atau tidak berdasarkan atribut di atas (Ya, Tidak)."
      ],
      "metadata": {
        "id": "IML6SHuMId0Z"
      }
    },
    {
      "cell_type": "code",
      "execution_count": 14,
      "metadata": {
        "id": "QzTcNSVtEU92"
      },
      "outputs": [],
      "source": [
        "import math\n",
        "\n",
        "# Data pelamar\n",
        "data = [\n",
        "    {'Pelamar': 'A', 'IPK': 'Bagus', 'Psikologi': 'Tinggi', 'Wawancara': 'Buruk', 'Diterima': 'Tidak'},\n",
        "    {'Pelamar': 'B', 'IPK': 'Bagus', 'Psikologi': 'Rendah', 'Wawancara': 'Baik', 'Diterima': 'Ya'},\n",
        "    {'Pelamar': 'C', 'IPK': 'Cukup', 'Psikologi': 'Tinggi', 'Wawancara': 'Buruk', 'Diterima': 'Tidak'},\n",
        "    {'Pelamar': 'D', 'IPK': 'Cukup', 'Psikologi': 'Rendah', 'Wawancara': 'Baik', 'Diterima': 'Ya'},\n",
        "    {'Pelamar': 'E', 'IPK': 'Kurang', 'Psikologi': 'Tinggi', 'Wawancara': 'Buruk', 'Diterima': 'Tidak'},\n",
        "    {'Pelamar': 'F', 'IPK': 'Kurang', 'Psikologi': 'Sedang', 'Wawancara': 'Baik', 'Diterima': 'Ya'},\n",
        "    {'Pelamar': 'G', 'IPK': 'Kurang', 'Psikologi': 'Rendah', 'Wawancara': 'Buruk', 'Diterima': 'Tidak'},\n",
        "]\n"
      ]
    },
    {
      "cell_type": "markdown",
      "source": [
        "**Langkah 2: Menghitung Entropi**\n",
        "\n",
        "Entropi adalah ukuran ketidakpastian atau ketidakteraturan dalam suatu dataset. Pada algoritma ID3, kita menghitung entropi untuk atribut target (dalam hal ini, Diterima) untuk mengukur seberapa murni atau tidak murninya data tersebut. Semakin tinggi entropi, semakin besar ketidakpastian data.\n",
        "\n",
        "Fungsi entropy menghitung entropi dari dataset berdasarkan distribusi dari atribut target (Diterima)."
      ],
      "metadata": {
        "id": "DPpwiVYNI_jA"
      }
    },
    {
      "cell_type": "code",
      "source": [
        "def entropy(data, target_attr):\n",
        "    values = [record[target_attr] for record in data]  # Ambil semua nilai target ('Diterima')\n",
        "    value_freq = {}\n",
        "    data_entropy = 0.0\n",
        "\n",
        "    # Hitung frekuensi setiap nilai dalam target attribute\n",
        "    for value in values:\n",
        "        if value in value_freq:\n",
        "            value_freq[value] += 1.0\n",
        "        else:\n",
        "            value_freq[value] = 1.0\n",
        "\n",
        "    # Hitung entropi\n",
        "    for freq in value_freq.values():\n",
        "        prob = freq / len(data)  # Probabilitas setiap nilai\n",
        "        data_entropy += -prob * math.log2(prob)  # Entropi total\n",
        "\n",
        "    return data_entropy\n"
      ],
      "metadata": {
        "id": "dVq-hE2sEbqk"
      },
      "execution_count": 23,
      "outputs": []
    },
    {
      "cell_type": "markdown",
      "source": [
        "**Langkah 3: Menghitung Information Gain**\n",
        "\n",
        "Information Gain (IG) mengukur pengurangan entropi setelah membagi dataset berdasarkan suatu atribut. Semakin besar IG, semakin baik atribut tersebut untuk digunakan sebagai pembagi."
      ],
      "metadata": {
        "id": "d1kDRw1OJNRs"
      }
    },
    {
      "cell_type": "code",
      "source": [
        "def information_gain(data, attr, target_attr):\n",
        "    attr_values = [record[attr] for record in data]  # Nilai-nilai atribut yang dipilih\n",
        "    value_freq = {}\n",
        "    subset_entropy = 0.0\n",
        "\n",
        "    # Hitung frekuensi setiap nilai dari atribut yang dipilih\n",
        "    for value in attr_values:\n",
        "        if value in value_freq:\n",
        "            value_freq[value] += 1.0\n",
        "        else:\n",
        "            value_freq[value] = 1.0\n",
        "\n",
        "    # Hitung entropi untuk setiap subset data\n",
        "    for value, freq in value_freq.items():\n",
        "        prob = freq / len(data)\n",
        "        subset = [record for record in data if record[attr] == value]  # Subset dari data yang dibagi oleh nilai ini\n",
        "        subset_entropy += prob * entropy(subset, target_attr)\n",
        "\n",
        "    # Hitung information gain\n",
        "    total_entropy = entropy(data, target_attr)\n",
        "    return total_entropy - subset_entropy\n"
      ],
      "metadata": {
        "id": "Haxor4v1EdEy"
      },
      "execution_count": 16,
      "outputs": []
    },
    {
      "cell_type": "markdown",
      "source": [
        "Langkah 4: Membuat Decision Tree\n",
        "\n",
        "Untuk membangun decision tree, kita melakukan proses rekursif:\n",
        "\n",
        "1. Pilih atribut dengan information gain tertinggi sebagai akar dari decision tree.\n",
        "2. Bagi dataset menjadi subset berdasarkan nilai dari atribut tersebut.\n",
        "3. Ulangi langkah ini untuk setiap subset hingga tidak ada lagi atribut yang bisa dipilih atau semua data dalam subset memiliki nilai target yang sama."
      ],
      "metadata": {
        "id": "ijbq6svZL0Dy"
      }
    },
    {
      "cell_type": "code",
      "source": [
        "def choose_best_attribute(data, attributes, target_attr):\n",
        "    \"\"\"Memilih atribut dengan information gain tertinggi.\"\"\"\n",
        "    best_gain = 0.0\n",
        "    best_attr = None\n",
        "\n",
        "    for attr in attributes:\n",
        "        gain = information_gain(data, attr, target_attr)\n",
        "        if gain > best_gain:\n",
        "            best_gain = gain\n",
        "            best_attr = attr\n",
        "\n",
        "    return best_attr\n",
        "\n",
        "def create_decision_tree(data, attributes, target_attr):\n",
        "    target_values = [record[target_attr] for record in data]\n",
        "\n",
        "    # Jika semua nilai target sama, kembalikan nilai itu (base case)\n",
        "    if target_values.count(target_values[0]) == len(target_values):\n",
        "        return target_values[0]\n",
        "\n",
        "    # Jika tidak ada atribut yang tersisa, kembalikan nilai mayoritas\n",
        "    if not attributes:\n",
        "        return majority_value(data, target_attr)\n",
        "\n",
        "    # Pilih atribut terbaik untuk memecah data\n",
        "    best_attr = choose_best_attribute(data, attributes, target_attr)\n",
        "\n",
        "    # Buat pohon (dictionary)\n",
        "    tree = {best_attr: {}}\n",
        "\n",
        "    # Hapus atribut yang sudah dipilih\n",
        "    remaining_attrs = [attr for attr in attributes if attr != best_attr]\n",
        "\n",
        "    # Buat cabang untuk setiap nilai dari atribut terbaik\n",
        "    for value in set(record[best_attr] for record in data):\n",
        "        subset = [record for record in data if record[best_attr] == value]\n",
        "        subtree = create_decision_tree(subset, remaining_attrs, target_attr)\n",
        "        tree[best_attr][value] = subtree\n",
        "\n",
        "    return tree\n"
      ],
      "metadata": {
        "id": "ZMK7WtYhEfIk"
      },
      "execution_count": 17,
      "outputs": []
    },
    {
      "cell_type": "markdown",
      "source": [
        "**Langkah 5: Menjalankan dan Menampilkan Decision Tree**\n",
        "\n",
        "Membangun dan menampilkan decision tree berdasarkan data penerimaan karyawan. Atribut yang tersedia adalah IPK, Psikologi, dan Wawancara."
      ],
      "metadata": {
        "id": "_0zJXGtIM4Ov"
      }
    },
    {
      "cell_type": "code",
      "source": [
        "# Daftar atribut yang tersedia (kecuali atribut target 'Diterima')\n",
        "attributes = ['IPK', 'Psikologi', 'Wawancara']\n",
        "\n",
        "# Buat decision tree\n",
        "decision_tree = create_decision_tree(data, attributes, 'Diterima')\n",
        "\n",
        "# Cetak decision tree\n",
        "import pprint\n",
        "pprint.pprint(decision_tree)\n"
      ],
      "metadata": {
        "colab": {
          "base_uri": "https://localhost:8080/"
        },
        "id": "94UV0WdzNEsY",
        "outputId": "bf0bd372-8dc1-4245-8ff3-890e109933eb"
      },
      "execution_count": 24,
      "outputs": [
        {
          "output_type": "stream",
          "name": "stdout",
          "text": [
            "{'Wawancara': {'Baik': 'Ya', 'Buruk': 'Tidak'}}\n"
          ]
        }
      ]
    }
  ]
}